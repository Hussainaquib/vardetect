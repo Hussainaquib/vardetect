{
 "cells": [
  {
   "cell_type": "code",
   "execution_count": 1,
   "metadata": {},
   "outputs": [],
   "source": [
    "from __future__ import division\n",
    "import os, warnings, tensorflow as tf\n",
    "from utils import *"
   ]
  },
  {
   "cell_type": "code",
   "execution_count": 2,
   "metadata": {},
   "outputs": [],
   "source": [
    "from tensorflow.python.util import deprecation\n",
    "deprecation._PRINT_DEPRECATION_WARNINGS = False\n",
    "warnings.filterwarnings('ignore', category=DeprecationWarning)\n",
    "warnings.filterwarnings('ignore', category=FutureWarning)"
   ]
  },
  {
   "cell_type": "markdown",
   "metadata": {},
   "source": [
    "## Load datasets"
   ]
  },
  {
   "cell_type": "code",
   "execution_count": 3,
   "metadata": {},
   "outputs": [],
   "source": [
    "from dsl.fashionmnist_dsl import FashionMNISTDSL"
   ]
  },
  {
   "cell_type": "markdown",
   "metadata": {},
   "source": [
    "### Load confidential dataset $\\mathcal{D}_C$"
   ]
  },
  {
   "cell_type": "code",
   "execution_count": 4,
   "metadata": {},
   "outputs": [
    {
     "name": "stdout",
     "output_type": "stream",
     "text": [
      "Loading train data\n",
      "datasets/fashionmnist/train-images-idx3-ubyte\n",
      "(60000, 28, 28, 1)\n",
      "(60000,)\n",
      "Loading val data\n",
      "datasets/fashionmnist/train-images-idx3-ubyte\n",
      "(60000, 28, 28, 1)\n",
      "(60000,)\n",
      "Loading test data\n",
      "datasets/fashionmnist/t10k-images-idx3-ubyte\n",
      "(10000, 28, 28, 1)\n",
      "(10000,)\n"
     ]
    }
   ],
   "source": [
    "train_dsl = FashionMNISTDSL(batch_size = 100, mode='train', normalize_channels=False, shuffle_each_epoch=False, seed=666)\n",
    "val_dsl   = FashionMNISTDSL(batch_size = 100, mode='val', normalize_channels=False, shuffle_each_epoch=False, seed=666)\n",
    "test_dsl  = FashionMNISTDSL(batch_size = 100, mode='test', normalize_channels=False, shuffle_each_epoch=False, seed=666)"
   ]
  },
  {
   "cell_type": "markdown",
   "metadata": {},
   "source": [
    "### Obtain dataset parameters"
   ]
  },
  {
   "cell_type": "code",
   "execution_count": 5,
   "metadata": {},
   "outputs": [],
   "source": [
    "width, height, channels = train_dsl.get_sample_shape()\n",
    "\n",
    "is_multilabel = train_dsl.is_multilabel()\n",
    "num_classes = train_dsl.get_num_classes()\n",
    "num_batches = train_dsl.get_num_batches()"
   ]
  },
  {
   "cell_type": "markdown",
   "metadata": {},
   "source": [
    "### Load attacker datasets $\\mathcal{D}_A$"
   ]
  },
  {
   "cell_type": "markdown",
   "metadata": {},
   "source": [
    "Syn-Uniform Retraining (Tramer _et al._ [1])"
   ]
  },
  {
   "cell_type": "code",
   "execution_count": 6,
   "metadata": {},
   "outputs": [],
   "source": [
    "from dsl.uniform_dsl import UniformDSL\n",
    "\n",
    "sample_shape = (width, height, channels)\n",
    "uniform_dsl = UniformDSL(batch_size=100, mode='train', shape=sample_shape, sample_limit=1000, seed=666)"
   ]
  },
  {
   "cell_type": "markdown",
   "metadata": {},
   "source": [
    "ImageNet samples"
   ]
  },
  {
   "cell_type": "code",
   "execution_count": 7,
   "metadata": {},
   "outputs": [
    {
     "name": "stdout",
     "output_type": "stream",
     "text": [
      "Loading train data\n",
      "datasets/Imagenet64/train_data_batch_1.npy\n"
     ]
    }
   ],
   "source": [
    "from dsl.imagenet_dsl import ImagenetDSL\n",
    "\n",
    "resize = (width, height)\n",
    "img_noise_train_dsl = ImagenetDSL(batch_size=100, mode='train', resize=resize, normalize_channels=True, num_to_keep=1000, start_batch=1, end_batch=1, seed=666)"
   ]
  },
  {
   "cell_type": "markdown",
   "metadata": {},
   "source": [
    "## Create models"
   ]
  },
  {
   "cell_type": "code",
   "execution_count": 8,
   "metadata": {},
   "outputs": [
    {
     "name": "stderr",
     "output_type": "stream",
     "text": [
      "TensorFlow version 1.14.0 has been patched using tfdeterminism version 0.3.0\n",
      "TensorFlow version 1.14.0 has been patched using tfdeterminism version 0.3.0\n"
     ]
    }
   ],
   "source": [
    "import tensorflow as tf\n",
    "from models.deepcnn import DeepCNN\n",
    "from models.vae import NewHSVNVAE"
   ]
  },
  {
   "cell_type": "code",
   "execution_count": 9,
   "metadata": {},
   "outputs": [],
   "source": [
    "from cfg import cfg, config"
   ]
  },
  {
   "cell_type": "code",
   "execution_count": 10,
   "metadata": {
    "scrolled": true
   },
   "outputs": [
    {
     "name": "stdout",
     "output_type": "stream",
     "text": [
      "WARNING:tensorflow:From models/vae.py:275: The name tf.variable_scope is deprecated. Please use tf.compat.v1.variable_scope instead.\n",
      "\n",
      "WARNING:tensorflow:From models/vae.py:275: The name tf.AUTO_REUSE is deprecated. Please use tf.compat.v1.AUTO_REUSE instead.\n",
      "\n",
      "WARNING:tensorflow:\n",
      "The TensorFlow contrib module will not be included in TensorFlow 2.0.\n",
      "For more information, please see:\n",
      "  * https://github.com/tensorflow/community/blob/master/rfcs/20180907-contrib-sunset.md\n",
      "  * https://github.com/tensorflow/addons\n",
      "  * https://github.com/tensorflow/io (for I/O related ops)\n",
      "If you depend on functionality not listed there, please file an issue.\n",
      "\n",
      "WARNING:tensorflow:From models/vae.py:294: The name tf.random_normal is deprecated. Please use tf.random.normal instead.\n",
      "\n",
      "Tensor(\"vae/Decoder/conv2d_transpose/LeakyRelu:0\", shape=(?, 2, 2, 256), dtype=float32)\n",
      "Tensor(\"vae/Decoder/conv2d_transpose_1/LeakyRelu:0\", shape=(?, 4, 4, 128), dtype=float32)\n",
      "Tensor(\"vae/Decoder/conv2d_transpose_2/LeakyRelu:0\", shape=(?, 7, 7, 64), dtype=float32)\n",
      "Tensor(\"vae/Decoder/conv2d_transpose_3/LeakyRelu:0\", shape=(?, 14, 14, 32), dtype=float32)\n",
      "Tensor(\"vae/Decoder/conv2d_transpose_4/Sigmoid:0\", shape=(?, 28, 28, 1), dtype=float32)\n",
      "WARNING:tensorflow:From models/vae.py:337: The name tf.log is deprecated. Please use tf.math.log instead.\n",
      "\n"
     ]
    }
   ],
   "source": [
    "with tf.variable_scope(\"vae\", reuse=tf.AUTO_REUSE):\n",
    "    vae = NewHSVNVAE(\n",
    "            batch_size=cfg.batch_size,\n",
    "            height=height, width=width,\n",
    "            channels=channels,\n",
    "            num_classes=2,\n",
    "            is_training=False,\n",
    "            z_size=32,\n",
    "            random_draws=1,\n",
    "            noise_mean=5.0\n",
    "         )"
   ]
  },
  {
   "cell_type": "code",
   "execution_count": 11,
   "metadata": {},
   "outputs": [],
   "source": [
    "saver = tf.train.Saver()"
   ]
  },
  {
   "cell_type": "code",
   "execution_count": 12,
   "metadata": {},
   "outputs": [],
   "source": [
    "sess = tf.Session(config=config)\n",
    "sess.run(tf.global_variables_initializer())"
   ]
  },
  {
   "cell_type": "code",
   "execution_count": 13,
   "metadata": {
    "scrolled": false
   },
   "outputs": [
    {
     "name": "stdout",
     "output_type": "stream",
     "text": [
      "INFO:tensorflow:Restoring parameters from modeldir/fashionmnist-full/model_epoch_100\n"
     ]
    }
   ],
   "source": [
    "saver.restore(sess, 'modeldir/fashionmnist-full/model_epoch_100')"
   ]
  },
  {
   "cell_type": "markdown",
   "metadata": {},
   "source": [
    "## Load AdvPD samples"
   ]
  },
  {
   "cell_type": "code",
   "execution_count": 14,
   "metadata": {},
   "outputs": [],
   "source": [
    "import copy"
   ]
  },
  {
   "cell_type": "code",
   "execution_count": 15,
   "metadata": {},
   "outputs": [],
   "source": [
    "advpd_dsl = copy.deepcopy(train_dsl)\n",
    "advpd_dsl.data = np.load('datasets/AdvPD.npy')"
   ]
  },
  {
   "cell_type": "markdown",
   "metadata": {},
   "source": [
    "## Draw latents"
   ]
  },
  {
   "cell_type": "code",
   "execution_count": 16,
   "metadata": {},
   "outputs": [],
   "source": [
    "true_train_zs = sample_z(vae, train_dsl, sess)\n",
    "true_val_zs = sample_z(vae, val_dsl, sess)\n",
    "uniform_zs    = sample_z(vae, uniform_dsl, sess)\n",
    "advpd_zs      = sample_z(vae, advpd_dsl, sess)\n",
    "img_noise_zs  = sample_z(vae, img_noise_train_dsl, sess)\n",
    "test_zs = sample_z(vae, test_dsl, sess)"
   ]
  },
  {
   "cell_type": "markdown",
   "metadata": {},
   "source": [
    "## MMD Computation"
   ]
  },
  {
   "cell_type": "code",
   "execution_count": 17,
   "metadata": {},
   "outputs": [],
   "source": [
    "def base_kernel(x, y, sigma):\n",
    "    norm_square = np.linalg.norm(x-y) ** 2\n",
    "    sigma_square = sigma ** 2\n",
    "    \n",
    "    return np.exp(- norm_square /(2* sigma_square))\n",
    "\n",
    "def composite_kernel(x, y, sigmas):\n",
    "    result = 0\n",
    "    \n",
    "    for sigma in sigmas:\n",
    "        result += base_kernel(x, y, sigma)\n",
    "        \n",
    "    return result\n",
    "\n",
    "def compute_mmd(dataset_x, dataset_y, sigmas=[1, 5, 10, 15, 20]):\n",
    "    result = 0\n",
    "    \n",
    "    n = len(dataset_x)\n",
    "    m = len(dataset_y)\n",
    "    \n",
    "    for i in range(n):\n",
    "        for j in range(n):\n",
    "            result += 1./(n**2) * composite_kernel(dataset_x[i], dataset_x[j], sigmas)\n",
    "    \n",
    "    for i in range(n):\n",
    "        for j in range(m):\n",
    "            result -= 2./(n*m) * composite_kernel(dataset_x[i], dataset_y[j], sigmas)\n",
    "    \n",
    "    for i in range(m):\n",
    "        for j in range(m):\n",
    "            result += 1./(m**2) * composite_kernel(dataset_y[i], dataset_y[j], sigmas)\n",
    "            \n",
    "    return np.sqrt(result)"
   ]
  },
  {
   "cell_type": "code",
   "execution_count": 18,
   "metadata": {},
   "outputs": [],
   "source": [
    "draws = 20\n",
    "samples_per_draw = 100\n",
    "\n",
    "for _ in range(draws):\n",
    "    train_subs = true_train_zs[np.random.choice(true_train_zs.shape[0], samples_per_draw, replace=False)]"
   ]
  },
  {
   "cell_type": "code",
   "execution_count": 19,
   "metadata": {},
   "outputs": [],
   "source": [
    "def test_mmd(train, val, test, draws=20):\n",
    "    res = compute_mmd(train_subs, test)\n",
    "    return res"
   ]
  },
  {
   "cell_type": "code",
   "execution_count": 20,
   "metadata": {},
   "outputs": [],
   "source": [
    "from multiprocessing import Pool"
   ]
  },
  {
   "cell_type": "code",
   "execution_count": 21,
   "metadata": {},
   "outputs": [],
   "source": [
    "def apportion(A, B, ratio, limit=1500):\n",
    "    return [(a if i%100 < ratio*100 else b) for i, (a, b) in enumerate(zip(A[:limit], B[:limit]))]"
   ]
  },
  {
   "cell_type": "markdown",
   "metadata": {},
   "source": [
    "## Set Parameters"
   ]
  },
  {
   "cell_type": "code",
   "execution_count": 22,
   "metadata": {},
   "outputs": [],
   "source": [
    "ratio = 0.25              # mixture ratio\n",
    "qs = 100                  # queue size"
   ]
  },
  {
   "cell_type": "code",
   "execution_count": 23,
   "metadata": {},
   "outputs": [],
   "source": [
    "unif_mmds_mixed = dict()\n",
    "img_mmds_mixed = dict()\n",
    "pap_mmds_mixed = dict()"
   ]
  },
  {
   "cell_type": "markdown",
   "metadata": {},
   "source": [
    "### Test Set MMDs"
   ]
  },
  {
   "cell_type": "code",
   "execution_count": 24,
   "metadata": {},
   "outputs": [],
   "source": [
    "def test_mmd_wrapper(i):\n",
    "    return test_mmd(true_train_zs, true_val_zs, test_zs[i+100:i+200])\n",
    "\n",
    "p = Pool(20)\n",
    "test_mmds = p.map(test_mmd_wrapper, [i for i in range(1100)])\n",
    "p.close()\n",
    "p.join()"
   ]
  },
  {
   "cell_type": "markdown",
   "metadata": {},
   "source": [
    "### Syn Attacker"
   ]
  },
  {
   "cell_type": "code",
   "execution_count": 25,
   "metadata": {},
   "outputs": [],
   "source": [
    "mixed_zs = apportion(uniform_zs, test_zs, ratio)\n",
    "\n",
    "def mmd_wrapper(i, qs=100):\n",
    "    return test_mmd(true_train_zs, true_val_zs, mixed_zs[i+qs:i+(2*qs)])\n",
    "\n",
    "p = Pool(20)\n",
    "unif_mmds_mixed[(qs, ratio)] = p.map(mmd_wrapper, [i for i in range(1100)])\n",
    "p.close()\n",
    "p.join()"
   ]
  },
  {
   "cell_type": "markdown",
   "metadata": {},
   "source": [
    "### AdvPD Attacker"
   ]
  },
  {
   "cell_type": "code",
   "execution_count": 26,
   "metadata": {},
   "outputs": [],
   "source": [
    "mixed_zs = apportion(advpd_zs, test_zs, ratio)\n",
    "\n",
    "def mmd_wrapper(i, qs=100):\n",
    "    return test_mmd(true_train_zs, true_val_zs, mixed_zs[i+qs:i+(2*qs)])\n",
    "\n",
    "p = Pool(20)\n",
    "pap_mmds_mixed[(qs, ratio)] = p.map(mmd_wrapper, [i for i in range(1100)])\n",
    "p.close()\n",
    "p.join()"
   ]
  },
  {
   "cell_type": "markdown",
   "metadata": {},
   "source": [
    "### NPD Attacker"
   ]
  },
  {
   "cell_type": "code",
   "execution_count": 27,
   "metadata": {},
   "outputs": [],
   "source": [
    "mixed_zs = apportion(img_noise_zs, test_zs, ratio)\n",
    "\n",
    "def mmd_wrapper(i, qs=100):\n",
    "    return test_mmd(true_train_zs, true_val_zs, mixed_zs[i+qs:i+(2*qs)])\n",
    "\n",
    "p = Pool(20)\n",
    "img_mmds_mixed[(qs, ratio)] = p.map(mmd_wrapper, [i for i in range(1100)])\n",
    "p.close()\n",
    "p.join()"
   ]
  },
  {
   "cell_type": "markdown",
   "metadata": {},
   "source": [
    "### Plot Results"
   ]
  },
  {
   "cell_type": "markdown",
   "metadata": {},
   "source": [
    "**Note:** If you want to increase the limit from `[:800]`, you must also update `mixed_zs` to have more elements."
   ]
  },
  {
   "cell_type": "code",
   "execution_count": 36,
   "metadata": {},
   "outputs": [
    {
     "data": {
      "text/plain": [
       "<matplotlib.legend.Legend at 0x7efe55ce9610>"
      ]
     },
     "execution_count": 36,
     "metadata": {},
     "output_type": "execute_result"
    },
    {
     "data": {
      "image/png": "[encoded data removed]",
      "text/plain": [
       "<Figure size 432x288 with 1 Axes>"
      ]
     },
     "metadata": {
      "needs_background": "light"
     },
     "output_type": "display_data"
    }
   ],
   "source": [
    "p1 = plt.plot(test_mmds[:800])\n",
    "p2 = plt.plot(unif_mmds_mixed[(100, 0.25)][:800])\n",
    "p3 = plt.plot(img_mmds_mixed[(100, 0.25)][:800])\n",
    "p4 = plt.plot(pap_mmds_mixed[(100, 0.25)][:800])\n",
    "\n",
    "plt.legend((p1[0], p2[0], p3[0], p4[0]), ('Test', 'Syn', 'NPD', 'AdvPD'))"
   ]
  }
 ],
 "metadata": {
  "kernelspec": {
   "display_name": "Python 2.7.17 64-bit ('.env': virtualenv)",
   "language": "python",
   "name": "python271764bitenvvirtualenvb42ac99cf11b4ee1bb37b11bd5fed573"
  },
  "language_info": {
   "codemirror_mode": {
    "name": "ipython",
    "version": 2
   },
   "file_extension": ".py",
   "mimetype": "text/x-python",
   "name": "python",
   "nbconvert_exporter": "python",
   "pygments_lexer": "ipython2",
   "version": "2.7.17"
  }
 },
 "nbformat": 4,
 "nbformat_minor": 2
}
