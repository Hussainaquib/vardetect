{
 "cells": [
  {
   "cell_type": "code",
   "execution_count": 1,
   "metadata": {},
   "outputs": [],
   "source": [
    "from __future__ import division\n",
    "import os, warnings, tensorflow as tf\n",
    "from utils import *"
   ]
  },
  {
   "cell_type": "code",
   "execution_count": 2,
   "metadata": {},
   "outputs": [],
   "source": [
    "from tensorflow.python.util import deprecation\n",
    "deprecation._PRINT_DEPRECATION_WARNINGS = False\n",
    "warnings.filterwarnings('ignore', category=DeprecationWarning)\n",
    "warnings.filterwarnings('ignore', category=FutureWarning)"
   ]
  },
  {
   "cell_type": "markdown",
   "metadata": {},
   "source": [
    "## [Warning]"
   ]
  },
  {
   "cell_type": "markdown",
   "metadata": {},
   "source": [
    "Do not run this notebook unless you wish to retrain the models.  \n",
    "This repository is already preloaded with pre-trained VAEs for your use."
   ]
  },
  {
   "cell_type": "markdown",
   "metadata": {},
   "source": [
    "## Load datasets"
   ]
  },
  {
   "cell_type": "code",
   "execution_count": 3,
   "metadata": {},
   "outputs": [],
   "source": [
    "from dsl.fashionmnist_dsl import FashionMNISTDSL"
   ]
  },
  {
   "cell_type": "code",
   "execution_count": 6,
   "metadata": {},
   "outputs": [],
   "source": [
    "partition_seed = None"
   ]
  },
  {
   "cell_type": "code",
   "execution_count": 7,
   "metadata": {
    "collapsed": true
   },
   "outputs": [
    {
     "name": "stdout",
     "output_type": "stream",
     "text": [
      "Loading test data\n",
      "datasets/fashionmnist/t10k-images-idx3-ubyte\n",
      "(10000, 28, 28, 1)\n",
      "(10000,)\n"
     ]
    }
   ],
   "source": [
    "train_dsl = FashionMNISTDSL(batch_size=100, mode='test', normalize_channels=False, shuffle_each_epoch=False, seed=666)\n",
    "\n",
    "if partition_seed is not None:\n",
    "    np.random.seed(partition_seed)\n",
    "    chosen_classes = list(np.random.choice(np.arange(train_dsl.num_classes), train_dsl.num_classes//2, False))\n",
    "    \n",
    "else:\n",
    "    chosen_classes = list(np.arange(train_dsl.num_classes))"
   ]
  },
  {
   "cell_type": "markdown",
   "metadata": {},
   "source": [
    "### Partition classes"
   ]
  },
  {
   "cell_type": "code",
   "execution_count": 8,
   "metadata": {
    "collapsed": true
   },
   "outputs": [
    {
     "name": "stdout",
     "output_type": "stream",
     "text": [
      "Creating DSL only for classes 0 1 2 3 4 5 6 7 8 9\n",
      "Loading train data\n",
      "datasets/fashionmnist/train-images-idx3-ubyte\n",
      "(60000, 28, 28, 1)\n",
      "(60000,)\n",
      "processing...\n",
      "Creating DSL only for classes 0 1 2 3 4 5 6 7 8 9\n",
      "Loading val data\n",
      "datasets/fashionmnist/train-images-idx3-ubyte\n",
      "(60000, 28, 28, 1)\n",
      "(60000,)\n",
      "processing...\n",
      "Creating DSL only for classes 0 1 2 3 4 5 6 7 8 9\n",
      "Loading test data\n",
      "datasets/fashionmnist/t10k-images-idx3-ubyte\n",
      "(10000, 28, 28, 1)\n",
      "(10000,)\n",
      "processing...\n"
     ]
    }
   ],
   "source": [
    "train_dsl = FashionMNISTDSL(batch_size = 100, mode='train', normalize_channels=False, shuffle_each_epoch=False, seed=666, keep_class=chosen_classes)\n",
    "val_dsl   = FashionMNISTDSL(batch_size = 100, mode='val', normalize_channels=False, shuffle_each_epoch=False, seed=666, keep_class=chosen_classes)\n",
    "test_dsl  = FashionMNISTDSL(batch_size = 100, mode='test', normalize_channels=False, shuffle_each_epoch=False, seed=666, keep_class=chosen_classes)"
   ]
  },
  {
   "cell_type": "markdown",
   "metadata": {},
   "source": [
    "### Obtain dataset parameters"
   ]
  },
  {
   "cell_type": "code",
   "execution_count": 9,
   "metadata": {},
   "outputs": [],
   "source": [
    "width, height, channels = train_dsl.get_sample_shape()\n",
    "\n",
    "is_multilabel = train_dsl.is_multilabel()\n",
    "num_classes = train_dsl.get_num_classes()\n",
    "num_batches = train_dsl.get_num_batches()"
   ]
  },
  {
   "cell_type": "markdown",
   "metadata": {},
   "source": [
    "## Create model"
   ]
  },
  {
   "cell_type": "code",
   "execution_count": 10,
   "metadata": {},
   "outputs": [
    {
     "name": "stderr",
     "output_type": "stream",
     "text": [
      "TensorFlow version 1.14.0 has been patched using tfdeterminism version 0.3.0\n",
      "TensorFlow version 1.14.0 has been patched using tfdeterminism version 0.3.0\n"
     ]
    }
   ],
   "source": [
    "import tensorflow as tf\n",
    "from models.deepcnn import DeepCNN\n",
    "from models.vae import NewHSVNVAE"
   ]
  },
  {
   "cell_type": "code",
   "execution_count": 11,
   "metadata": {},
   "outputs": [],
   "source": [
    "from cfg import cfg, config"
   ]
  },
  {
   "cell_type": "code",
   "execution_count": 26,
   "metadata": {
    "scrolled": true
   },
   "outputs": [
    {
     "name": "stdout",
     "output_type": "stream",
     "text": [
      "Tensor(\"vae_1/Decoder/conv2d_transpose/LeakyRelu:0\", shape=(?, 2, 2, 256), dtype=float32)\n",
      "Tensor(\"vae_1/Decoder/conv2d_transpose_1/LeakyRelu:0\", shape=(?, 4, 4, 128), dtype=float32)\n",
      "Tensor(\"vae_1/Decoder/conv2d_transpose_2/LeakyRelu:0\", shape=(?, 7, 7, 64), dtype=float32)\n",
      "Tensor(\"vae_1/Decoder/conv2d_transpose_3/LeakyRelu:0\", shape=(?, 14, 14, 32), dtype=float32)\n",
      "Tensor(\"vae_1/Decoder/conv2d_transpose_4/Sigmoid:0\", shape=(?, 28, 28, 1), dtype=float32)\n",
      "Adam Learning rate: 0.001\n",
      "WARNING:tensorflow:From models/vae.py:93: The name tf.summary.scalar is deprecated. Please use tf.compat.v1.summary.scalar instead.\n",
      "\n",
      "WARNING:tensorflow:From models/vae.py:95: The name tf.summary.merge is deprecated. Please use tf.compat.v1.summary.merge instead.\n",
      "\n"
     ]
    }
   ],
   "source": [
    "with tf.variable_scope(\"vae\", reuse=tf.AUTO_REUSE):\n",
    "    vae = NewHSVNVAE(\n",
    "            batch_size=cfg.batch_size,\n",
    "            height=height, width=width,\n",
    "            channels=channels,\n",
    "            num_classes=2,\n",
    "            is_training=True,\n",
    "            z_size=32,\n",
    "            random_draws=1,\n",
    "            noise_mean=5.0\n",
    "         )"
   ]
  },
  {
   "cell_type": "code",
   "execution_count": 27,
   "metadata": {},
   "outputs": [],
   "source": [
    "saver = tf.train.Saver()"
   ]
  },
  {
   "cell_type": "code",
   "execution_count": 28,
   "metadata": {},
   "outputs": [],
   "source": [
    "sess = tf.Session(config=config)\n",
    "sess.run(tf.global_variables_initializer())"
   ]
  },
  {
   "cell_type": "markdown",
   "metadata": {},
   "source": [
    "## Create Training Dataset"
   ]
  },
  {
   "cell_type": "code",
   "execution_count": 29,
   "metadata": {},
   "outputs": [],
   "source": [
    "gaussian_noise_added_train_dsl = copy.deepcopy(train_dsl)\n",
    "    \n",
    "num_train_samples = gaussian_noise_added_train_dsl.data.shape[0]\n",
    "\n",
    "locs = np.random.uniform(0.0, 1.0, size=num_train_samples)\n",
    "noise_generated = np.concatenate([\n",
    "                                    [\n",
    "                                        np.random.normal(\n",
    "                                            loc=loc,\n",
    "                                            scale=0.5,\n",
    "                                            size=gaussian_noise_added_train_dsl.data.shape[1:]\n",
    "                                        )\n",
    "                                    \n",
    "                                        for loc in locs\n",
    "                                    ]\n",
    "                                 ])\n",
    "\n",
    "vnoise   = np.random.uniform(low=0.2, high=0.3,  size=num_train_samples )\n",
    "vnoise   = vnoise.reshape(-1, 1, 1, 1)\n",
    "\n",
    "gaussian_noise_added_train_dsl.data = np.clip(\n",
    "                                                vnoise * noise_generated\n",
    "                                                + (1-vnoise) * gaussian_noise_added_train_dsl.data,\n",
    "                                      0.0, 1.0) \n",
    "            \n",
    "full_data = np.concatenate([\n",
    "                train_dsl.data,\n",
    "                gaussian_noise_added_train_dsl.data,\n",
    "                #cifar_noise_train_dsl.data[:1000]\n",
    "            ], axis=0)\n",
    "\n",
    "full_labels = np.concatenate([\n",
    "                np.zeros(len(train_dsl.data), dtype=np.int32),\n",
    "                np.ones(len(gaussian_noise_added_train_dsl.data), dtype=np.int32)\n",
    "              ], axis=0)"
   ]
  },
  {
   "cell_type": "code",
   "execution_count": 30,
   "metadata": {},
   "outputs": [],
   "source": [
    "mod_train_dsl             = copy.deepcopy(train_dsl)\n",
    "\n",
    "mod_train_dsl.shuffle_each_epoch = True\n",
    "\n",
    "mod_train_dsl.data        = full_data\n",
    "mod_train_dsl.labels      = full_labels\n",
    "mod_train_dsl.num_classes = 2\n",
    "\n",
    "mod_train_dsl.shuffle_data()"
   ]
  },
  {
   "cell_type": "code",
   "execution_count": 31,
   "metadata": {},
   "outputs": [],
   "source": [
    "mod_val_dsl = copy.deepcopy(val_dsl)\n",
    "\n",
    "mod_val_dsl.labels = np.zeros(len(val_dsl.data), dtype=np.int32)\n",
    "\n",
    "mod_val_dsl.num_classes = 2"
   ]
  },
  {
   "cell_type": "markdown",
   "metadata": {},
   "source": [
    "Change labels for the main datasets"
   ]
  },
  {
   "cell_type": "code",
   "execution_count": 32,
   "metadata": {},
   "outputs": [],
   "source": [
    "train_dsl.labels = np.zeros_like(train_dsl.labels, dtype=np.int32)\n",
    "train_dsl.num_classes = 2"
   ]
  },
  {
   "cell_type": "code",
   "execution_count": 33,
   "metadata": {},
   "outputs": [],
   "source": [
    "val_dsl.labels = np.zeros_like(val_dsl.labels, dtype=np.int32)\n",
    "val_dsl.num_classes = 2"
   ]
  },
  {
   "cell_type": "markdown",
   "metadata": {},
   "source": [
    "## Training Loop"
   ]
  },
  {
   "cell_type": "code",
   "execution_count": 34,
   "metadata": {},
   "outputs": [],
   "source": [
    "import time"
   ]
  },
  {
   "cell_type": "code",
   "execution_count": 35,
   "metadata": {},
   "outputs": [],
   "source": [
    "if partition_seed is None:\n",
    "    logdir_defender = 'modeldir/fashionmnist-full-custom'\n",
    "else:\n",
    "    logdir_defender = 'modeldir/fashionmnist-{}-custom'"
   ]
  },
  {
   "cell_type": "code",
   "execution_count": 36,
   "metadata": {},
   "outputs": [],
   "source": [
    "num_batches_tr  = train_dsl.get_num_batches()\n",
    "num_batches_val = val_dsl.get_num_batches()\n",
    "num_samples_val = val_dsl.get_num_samples()"
   ]
  },
  {
   "cell_type": "code",
   "execution_count": 37,
   "metadata": {},
   "outputs": [
    {
     "name": "stdout",
     "output_type": "stream",
     "text": [
      "Epoch:   1\tVal:27.3337690048\tTrain: 44.0198249817\tRecon: 34.9191322327\tLatent: 18.2013759613\n",
      "Epoch:   2\tVal:25.6167110621\tTrain: 25.9459285736\tRecon: 21.5251998901\tLatent: 8.84146118164\n",
      "Epoch:   3\tVal:24.2565431112\tTrain: 24.6350383759\tRecon: 20.1755237579\tLatent: 8.91902828217\n",
      "Epoch:   4\tVal:23.8654712168\tTrain: 23.9827899933\tRecon: 19.4065170288\tLatent: 9.15254688263\n",
      "Epoch:   5\tVal:23.4052417552\tTrain: 23.5911979675\tRecon: 18.9605350494\tLatent: 9.26132392883\n",
      "Epoch:   6\tVal:23.1388493423\tTrain: 23.2884750366\tRecon: 18.588766098\tLatent: 9.39941692352\n",
      "Epoch:   7\tVal:22.9021869952\tTrain: 23.0236816406\tRecon: 18.2741909027\tLatent: 9.49898052216\n",
      "Epoch:   8\tVal:22.4719432157\tTrain: 22.7637329102\tRecon: 17.97082901\tLatent: 9.58581256866\n",
      "Epoch:   9\tVal:22.6694525909\tTrain: 22.6225090027\tRecon: 17.7819499969\tLatent: 9.6811170578\n",
      "Model saved in path: modeldir/fashionmnist-full-custom/model_epoch_10\n",
      "Epoch:  10\tVal:22.4765033811\tTrain: 22.4876937866\tRecon: 17.6178379059\tLatent: 9.73970985413\n",
      "Epoch:  11\tVal:22.2865357234\tTrain: 22.3539352417\tRecon: 17.455532074\tLatent: 9.7968044281\n",
      "Epoch:  12\tVal:22.1712760696\tTrain: 22.2358398438\tRecon: 17.3265419006\tLatent: 9.81859779358\n",
      "Epoch:  13\tVal:22.0702577171\tTrain: 22.1880455017\tRecon: 17.2279949188\tLatent: 9.92009925842\n",
      "Epoch:  14\tVal:22.3544398346\tTrain: 22.0866222382\tRecon: 17.1040687561\tLatent: 9.96510696411\n",
      "Epoch:  15\tVal:22.2361033414\tTrain: 22.0199012756\tRecon: 17.0092105865\tLatent: 10.0213871002\n",
      "Epoch:  16\tVal:21.8440856349\tTrain: 21.8904762268\tRecon: 16.8928184509\tLatent: 9.99531459808\n",
      "Epoch:  17\tVal:21.9531794472\tTrain: 21.9136428833\tRecon: 16.875825882\tLatent: 10.075633049\n",
      "Epoch:  18\tVal:21.5073196042\tTrain: 21.7902202606\tRecon: 16.7440452576\tLatent: 10.0923500061\n",
      "Epoch:  19\tVal:21.9070630849\tTrain: 21.7873249054\tRecon: 16.6991291046\tLatent: 10.1763925552\n",
      "Model saved in path: modeldir/fashionmnist-full-custom/model_epoch_20\n",
      "Epoch:  20\tVal:21.5608418325\tTrain: 21.7317867279\tRecon: 16.6412849426\tLatent: 10.1810112\n",
      "Epoch:  21\tVal:21.5572654813\tTrain: 21.6286869049\tRecon: 16.5407524109\tLatent: 10.175868988\n",
      "Epoch:  22\tVal:21.4674678446\tTrain: 21.6461257935\tRecon: 16.538444519\tLatent: 10.2153606415\n",
      "Epoch:  23\tVal:21.5186246414\tTrain: 21.5239009857\tRecon: 16.4060440063\tLatent: 10.2357130051\n",
      "Epoch:  24\tVal:21.5181520958\tTrain: 21.5039234161\tRecon: 16.373506546\tLatent: 10.2608356476\n",
      "Epoch:  25\tVal:21.4624969559\tTrain: 21.5737781525\tRecon: 16.4142093658\tLatent: 10.3191356659\n",
      "Epoch:  26\tVal:21.4216457074\tTrain: 21.4593925476\tRecon: 16.3075866699\tLatent: 10.3036146164\n",
      "Epoch:  27\tVal:21.4208015811\tTrain: 21.4400863647\tRecon: 16.2898483276\tLatent: 10.3004798889\n",
      "Epoch:  28\tVal:21.3398336322\tTrain: 21.3959903717\tRecon: 16.2439212799\tLatent: 10.3041343689\n",
      "Epoch:  29\tVal:21.3431013374\tTrain: 21.3129444122\tRecon: 16.129732132\tLatent: 10.3664255142\n",
      "Model saved in path: modeldir/fashionmnist-full-custom/model_epoch_30\n",
      "Epoch:  30\tVal:21.3103470815\tTrain: 21.3457355499\tRecon: 16.1630687714\tLatent: 10.3653278351\n",
      "Epoch:  31\tVal:21.3149841944\tTrain: 21.2928943634\tRecon: 16.1048469543\tLatent: 10.3760938644\n",
      "Epoch:  32\tVal:21.1415674324\tTrain: 21.2969112396\tRecon: 16.1226501465\tLatent: 10.3485212326\n",
      "Epoch:  33\tVal:21.2339326426\tTrain: 21.2218704224\tRecon: 16.0421886444\tLatent: 10.3593683243\n",
      "Epoch:  34\tVal:21.1637035027\tTrain: 21.2870197296\tRecon: 16.0876121521\tLatent: 10.3988142014\n",
      "Epoch:  35\tVal:21.0405215797\tTrain: 21.1828956604\tRecon: 15.9945888519\tLatent: 10.3766183853\n",
      "Epoch:  36\tVal:20.948662262\tTrain: 21.1951828003\tRecon: 15.997549057\tLatent: 10.3952627182\n",
      "Epoch:  37\tVal:21.0636544189\tTrain: 21.2220420837\tRecon: 16.0038852692\tLatent: 10.4363136292\n",
      "Epoch:  38\tVal:21.0489552104\tTrain: 21.154176712\tRecon: 15.9323034286\tLatent: 10.4437456131\n",
      "Epoch:  39\tVal:21.1014168739\tTrain: 21.101442337\tRecon: 15.9174928665\tLatent: 10.36789608\n",
      "Model saved in path: modeldir/fashionmnist-full-custom/model_epoch_40\n",
      "Epoch:  40\tVal:20.9544182027\tTrain: 21.1462268829\tRecon: 15.9262809753\tLatent: 10.4398899078\n",
      "Epoch:  41\tVal:21.1191639531\tTrain: 21.0698165894\tRecon: 15.8479862213\tLatent: 10.4436559677\n",
      "Epoch:  42\tVal:21.0781787898\tTrain: 21.0998058319\tRecon: 15.8811540604\tLatent: 10.4373025894\n",
      "Epoch:  43\tVal:21.0280515747\tTrain: 21.0651874542\tRecon: 15.8282203674\tLatent: 10.4739322662\n",
      "Epoch:  44\tVal:20.9728509903\tTrain: 21.0774173737\tRecon: 15.8414039612\tLatent: 10.4720258713\n",
      "Epoch:  45\tVal:21.008353995\tTrain: 21.0716285706\tRecon: 15.8395328522\tLatent: 10.4641904831\n",
      "Epoch:  46\tVal:21.0855700798\tTrain: 21.015291214\tRecon: 15.7672433853\tLatent: 10.4960975647\n",
      "Epoch:  47\tVal:20.9859672038\tTrain: 21.0049610138\tRecon: 15.7614774704\tLatent: 10.4869623184\n",
      "Epoch:  48\tVal:20.926500548\tTrain: 21.0364265442\tRecon: 15.7720346451\tLatent: 10.5287818909\n",
      "Epoch:  49\tVal:20.9624836311\tTrain: 20.9876899719\tRecon: 15.7359399796\tLatent: 10.5034980774\n",
      "Model saved in path: modeldir/fashionmnist-full-custom/model_epoch_50\n",
      "Epoch:  50\tVal:20.9197249883\tTrain: 20.9388313293\tRecon: 15.7018165588\tLatent: 10.4740285873\n",
      "Epoch:  51\tVal:20.9209890327\tTrain: 20.9699668884\tRecon: 15.7089233398\tLatent: 10.5220813751\n",
      "Epoch:  52\tVal:20.8963727023\tTrain: 20.9688968658\tRecon: 15.6985673904\tLatent: 10.5406579971\n",
      "Epoch:  53\tVal:20.8558691546\tTrain: 20.9113101959\tRecon: 15.646062851\tLatent: 10.5304918289\n",
      "Epoch:  54\tVal:21.1877184003\tTrain: 20.8954410553\tRecon: 15.6349143982\tLatent: 10.5210552216\n",
      "Epoch:  55\tVal:20.7519631157\tTrain: 20.9217090607\tRecon: 15.6543140411\tLatent: 10.5347909927\n",
      "Epoch:  56\tVal:20.8436298637\tTrain: 20.9142093658\tRecon: 15.6316614151\tLatent: 10.5650959015\n",
      "Epoch:  57\tVal:20.8716134109\tTrain: 20.9023208618\tRecon: 15.6119623184\tLatent: 10.5807199478\n",
      "Epoch:  58\tVal:20.8643898061\tTrain: 20.8737792969\tRecon: 15.586730957\tLatent: 10.5740966797\n",
      "Epoch:  59\tVal:20.994936367\tTrain: 20.8661594391\tRecon: 15.5598649979\tLatent: 10.6125898361\n",
      "Model saved in path: modeldir/fashionmnist-full-custom/model_epoch_60\n",
      "Epoch:  60\tVal:20.9126361911\tTrain: 20.8827762604\tRecon: 15.5760612488\tLatent: 10.6134281158\n",
      "Epoch:  61\tVal:20.6951930453\tTrain: 20.7972450256\tRecon: 15.5030412674\tLatent: 10.5884075165\n",
      "Epoch:  62\tVal:20.7497511253\tTrain: 20.7893695831\tRecon: 15.4956827164\tLatent: 10.5873718262\n",
      "Epoch:  63\tVal:20.834858462\tTrain: 20.7756843567\tRecon: 15.4931764603\tLatent: 10.5650129318\n",
      "Epoch:  64\tVal:20.7587234637\tTrain: 20.793214798\tRecon: 15.4862222672\tLatent: 10.6139850616\n",
      "Epoch:  65\tVal:20.6592509435\tTrain: 20.8000583649\tRecon: 15.4863243103\tLatent: 10.6274700165\n",
      "Epoch:  66\tVal:20.7794074211\tTrain: 20.7701530457\tRecon: 15.4587230682\tLatent: 10.6228628159\n",
      "Epoch:  67\tVal:20.7829452947\tTrain: 20.7357902527\tRecon: 15.4266862869\tLatent: 10.6182117462\n",
      "Epoch:  68\tVal:20.7163972054\tTrain: 20.735660553\tRecon: 15.4195070267\tLatent: 10.6323070526\n",
      "Epoch:  69\tVal:20.6736668129\tTrain: 20.7116336823\tRecon: 15.3875827789\tLatent: 10.6481027603\n",
      "Model saved in path: modeldir/fashionmnist-full-custom/model_epoch_70\n",
      "Epoch:  70\tVal:20.7856002909\tTrain: 20.731010437\tRecon: 15.4079446793\tLatent: 10.6461324692\n",
      "Epoch:  71\tVal:20.6792946523\tTrain: 20.6755332947\tRecon: 15.3704023361\tLatent: 10.6102600098\n",
      "Epoch:  72\tVal:20.5515709407\tTrain: 20.7035903931\tRecon: 15.3714132309\tLatent: 10.6643533707\n",
      "Epoch:  73\tVal:20.8310226847\tTrain: 20.7058353424\tRecon: 15.3761787415\tLatent: 10.6593122482\n",
      "Epoch:  74\tVal:20.6591732432\tTrain: 20.7214927673\tRecon: 15.3948812485\tLatent: 10.6532201767\n",
      "Epoch:  75\tVal:20.748640475\tTrain: 20.6898727417\tRecon: 15.3630466461\tLatent: 10.6536540985\n",
      "Epoch:  76\tVal:20.7406129634\tTrain: 20.7097606659\tRecon: 15.3697319031\tLatent: 10.680056572\n",
      "Epoch:  77\tVal:20.6272275429\tTrain: 20.6615943909\tRecon: 15.3238344193\tLatent: 10.6755189896\n",
      "Epoch:  78\tVal:20.6081525205\tTrain: 20.6573829651\tRecon: 15.3186826706\tLatent: 10.677400589\n",
      "Epoch:  79\tVal:20.6256495616\tTrain: 20.6607227325\tRecon: 15.3339452744\tLatent: 10.6535482407\n",
      "Model saved in path: modeldir/fashionmnist-full-custom/model_epoch_80\n",
      "Epoch:  80\tVal:20.7291859322\tTrain: 20.6296329498\tRecon: 15.2862052917\tLatent: 10.6868534088\n",
      "Epoch:  81\tVal:20.5198101794\tTrain: 20.6455726624\tRecon: 15.3077440262\tLatent: 10.6756601334\n",
      "Epoch:  82\tVal:20.5714676806\tTrain: 20.6398391724\tRecon: 15.3009386063\tLatent: 10.6777973175\n",
      "Epoch:  83\tVal:20.6004429169\tTrain: 20.6186523438\tRecon: 15.280374527\tLatent: 10.6765575409\n"
     ]
    },
    {
     "name": "stdout",
     "output_type": "stream",
     "text": [
      "Epoch:  84\tVal:20.6147361844\tTrain: 20.6104240417\tRecon: 15.2763214111\tLatent: 10.6682090759\n",
      "Epoch:  85\tVal:20.6092492536\tTrain: 20.5625896454\tRecon: 15.2265405655\tLatent: 10.6720991135\n",
      "Epoch:  86\tVal:20.4976162364\tTrain: 20.6399726868\tRecon: 15.3078365326\tLatent: 10.6642713547\n",
      "Epoch:  87\tVal:20.5213880246\tTrain: 20.5548667908\tRecon: 15.207608223\tLatent: 10.6945133209\n",
      "Epoch:  88\tVal:20.6691063398\tTrain: 20.5859718323\tRecon: 15.245675087\tLatent: 10.6805944443\n",
      "Epoch:  89\tVal:20.4543020846\tTrain: 20.5350322723\tRecon: 15.1919088364\tLatent: 10.686249733\n",
      "Model saved in path: modeldir/fashionmnist-full-custom/model_epoch_90\n",
      "Epoch:  90\tVal:20.6449708494\tTrain: 20.541759491\tRecon: 15.2017374039\tLatent: 10.6800422668\n",
      "Epoch:  91\tVal:20.4500444056\tTrain: 20.5265827179\tRecon: 15.1955423355\tLatent: 10.6620788574\n",
      "Epoch:  92\tVal:20.4324012909\tTrain: 20.5673465729\tRecon: 15.2185554504\tLatent: 10.6975812912\n",
      "Epoch:  93\tVal:20.5303812803\tTrain: 20.538980484\tRecon: 15.1949682236\tLatent: 10.6880292892\n",
      "Epoch:  94\tVal:20.5496903877\tTrain: 20.5359382629\tRecon: 15.2040920258\tLatent: 10.6636896133\n",
      "Epoch:  95\tVal:20.4379094938\tTrain: 20.5288295746\tRecon: 15.1913347244\tLatent: 10.6749858856\n",
      "Epoch:  96\tVal:20.485177728\tTrain: 20.5427360535\tRecon: 15.2095117569\tLatent: 10.6664533615\n",
      "Epoch:  97\tVal:20.5281390788\tTrain: 20.5073604584\tRecon: 15.1715669632\tLatent: 10.671587944\n",
      "Epoch:  98\tVal:20.4016100566\tTrain: 20.5145320892\tRecon: 15.1681842804\tLatent: 10.6926965714\n",
      "Epoch:  99\tVal:20.4382631721\tTrain: 20.5518398285\tRecon: 15.1965522766\tLatent: 10.7105760574\n",
      "Model saved in path: modeldir/fashionmnist-full-custom/model_epoch_100\n",
      "Epoch: 100\tVal:20.4898816681\tTrain: 20.4446411133\tRecon: 15.1038150787\tLatent: 10.6816530228\n"
     ]
    }
   ],
   "source": [
    "curr_loss = None\n",
    "best_loss = None\n",
    "no_improvement = 0\n",
    "\n",
    "for epoch in range(1, 101):\n",
    "    epoch_time = time.time()\n",
    "    t_loss     = []\n",
    "    r_loss     = []\n",
    "    l_loss     = []\n",
    "    \n",
    "    for b_tr in range(num_batches_tr): \n",
    "\n",
    "        trX, trY = mod_train_dsl.load_next_batch(b_tr)\n",
    "\n",
    "        global_step, _, summary_str, loss, recon_loss, latent_loss = sess.run([\n",
    "                                         vae.global_step,\n",
    "                                         vae.train_op,\n",
    "                                         vae.train_summary,\n",
    "                                         vae.mean_loss,\n",
    "                                         vae.mean_recon_loss,\n",
    "                                         vae.mean_latent_loss\n",
    "                                      ],\n",
    "                                      feed_dict={\n",
    "                                          vae.X: trX,\n",
    "                                          vae.dropout_keep_prob: cfg.dropout_keep_prob,\n",
    "                                          vae.labels: trY\n",
    "                                      })\n",
    "        t_loss.append(loss)    \n",
    "        r_loss.append(recon_loss)\n",
    "        l_loss.append(latent_loss)\n",
    "\n",
    "    curr_loss = compute_evaluation_measure(vae, sess, mod_train_dsl, vae.sum_loss)\n",
    "\n",
    "    if epoch % 10 == 0:\n",
    "        valX, _ = val_dsl.load_next_batch(1)\n",
    "        decoded = sess.run( vae.decoded, { vae.X: valX  } )\n",
    "\n",
    "        artificial_image = sess.run(vae.x_hat, feed_dict={vae.z: np.random.normal(0, 1, (144, vae.z_size))})\n",
    "\n",
    "        save_path = saver.save(sess, logdir_defender + '/model_epoch_%d' % (epoch) )       \n",
    "        print \"Model saved in path: %s\" % save_path            \n",
    "\n",
    "\n",
    "    print \"Epoch: {}\\tVal:{}\\tTrain: {}\\tRecon: {}\\tLatent: {}\" .format(\n",
    "        '%3d' % epoch,\n",
    "        curr_loss,\n",
    "        np.mean(t_loss),\n",
    "        np.mean(r_loss),\n",
    "        np.mean(l_loss)\n",
    "    ) "
   ]
  }
 ],
 "metadata": {
  "kernelspec": {
   "display_name": "Python 2.7.17 64-bit ('.env': virtualenv)",
   "language": "python",
   "name": "python271764bitenvvirtualenvb42ac99cf11b4ee1bb37b11bd5fed573"
  },
  "language_info": {
   "codemirror_mode": {
    "name": "ipython",
    "version": 2
   },
   "file_extension": ".py",
   "mimetype": "text/x-python",
   "name": "python",
   "nbconvert_exporter": "python",
   "pygments_lexer": "ipython2",
   "version": "2.7.17"
  }
 },
 "nbformat": 4,
 "nbformat_minor": 2
}
